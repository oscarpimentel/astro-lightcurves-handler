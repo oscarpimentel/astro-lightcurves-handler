{
 "cells": [
  {
   "cell_type": "code",
   "execution_count": null,
   "metadata": {},
   "outputs": [],
   "source": [
    "import sys\n",
    "sys.path.append('../') # or just install the module\n",
    "sys.path.append('../../fuzzy-tools') # or just install the module"
   ]
  },
  {
   "cell_type": "code",
   "execution_count": null,
   "metadata": {},
   "outputs": [],
   "source": [
    "from fuzzytools.files import search_for_filedirs\n",
    "from lchandler import _C\n",
    "\n",
    "root_folder = '../../surveys-save'\n",
    "filedirs = search_for_filedirs(root_folder, fext=_C.EXT_RAW_LIGHTCURVE)"
   ]
  },
  {
   "cell_type": "code",
   "execution_count": null,
   "metadata": {},
   "outputs": [],
   "source": [
    "%load_ext autoreload\n",
    "%autoreload 2\n",
    "import numpy as np\n",
    "from fuzzytools.progress_bars import ProgressBar\n",
    "from fuzzytools.files import load_pickle, save_pickle\n",
    "from fuzzytools.files import get_dict_from_filedir\n",
    "\n",
    "filedir = f'../../surveys-save/survey=alerceZTFv7.1~bands=gr~mode=onlySNe.ralcds'\n",
    "filedict = get_dict_from_filedir(filedir)\n",
    "root_folder = filedict['_rootdir']\n",
    "cfilename = filedict['_cfilename']\n",
    "survey = filedict['survey']\n",
    "lcdataset = load_pickle(filedir)\n",
    "print(lcdataset)"
   ]
  },
  {
   "cell_type": "code",
   "execution_count": null,
   "metadata": {},
   "outputs": [],
   "source": [
    "%load_ext autoreload\n",
    "%autoreload 2\n",
    "import numpy as np\n",
    "import matplotlib.pyplot as plt\n",
    "import fuzzytools.matplotlib.plots as cplots\n",
    "import fuzzytools.matplotlib.colors as cc\n",
    "from fuzzytools.matplotlib.utils import save_fig\n",
    "\n",
    "SNIIb_obj_names = ['ZTF18abojpnr', 'ZTF19aaugupw', 'ZTF19aawethv', 'ZTF18acbzoyh', 'ZTF18acqxyiq', 'ZTF18acrcyqw', 'ZTF19aadpqnb', 'ZTF19aaknate', 'ZTF19aalzvnu', 'ZTF19abqykei', 'ZTF19abqmsnk', 'ZTF19acyjjni', 'ZTF19aczmnqy', 'ZTF19aaejtof', 'ZTF20aawefgx', 'ZTF20aaxhzhc']\n",
    "populations_cdict = lcdataset.split('raw',\n",
    "    shuffle=True,\n",
    "    random_state=0,\n",
    "    outlier_obj_names=SNIIb_obj_names,\n",
    "    )\n",
    "#print(populations_cdict)\n",
    "\n",
    "lcset = lcdataset['raw']\n",
    "lcobj_classes = []\n",
    "for c in lcset.class_names:\n",
    "    lcobj_classes += [c.replace('*', '')]*len(populations_cdict[c])\n",
    "\n",
    "title = ''\n",
    "title += f'set={lcset.survey}-{\"\".join(lcset.band_names)}; total #samples={len(lcobj_classes):,}'+'\\n'\n",
    "plt_kwargs = {\n",
    "    #'ylabel':'' if ks>0 else None,\n",
    "    'title':title[:-1],\n",
    "    #'uses_log_scale':True,\n",
    "    'figsize':[6,3],\n",
    "    'cmap':cc.colorlist2cmap([cc.NICE_GRAY]),\n",
    "    'xlabel':'#samples',\n",
    "    }\n",
    "fig, ax = cplots.plot_hist_labels({'raw':lcobj_classes}, [c.replace('*', '') for c in lcset.class_names], **plt_kwargs)\n",
    "fig.tight_layout()\n",
    "save_fig(fig, f'../temp/classes.pdf', closes_fig=0)\n",
    "plt.plot()"
   ]
  },
  {
   "cell_type": "code",
   "execution_count": null,
   "metadata": {},
   "outputs": [],
   "source": [
    "%load_ext autoreload\n",
    "%autoreload 2\n",
    "import matplotlib.pyplot as plt\n",
    "from fuzzytools.matplotlib.scatters import scatter\n",
    "from fuzzytools.matplotlib.colors import get_scaled_color\n",
    "import fuzzytools.matplotlib.ax_styles as ax_styles\n",
    "import numpy as np\n",
    "from lchandler._C import CLASSES_STYLES, COLOR_DICT\n",
    "from fuzzytools.strings import latex_bf_alphabet_count\n",
    "from fuzzytools.matplotlib.utils import save_fig\n",
    "\n",
    "set_name = f'raw'\n",
    "lcobj_names = lcdataset[set_name].get_lcobj_names()\n",
    "thday = 100\n",
    "figsize = (14, 5.5)\n",
    "dpi = 200\n",
    "fig, axs = plt.subplots(1, 2, figsize=figsize, dpi=dpi)\n",
    "band_names = ['r', 'g']\n",
    "class_names = lcdataset[set_name].class_names\n",
    "for kb,b in enumerate(band_names):\n",
    "    ax = axs[kb]\n",
    "    x = []\n",
    "    y = []\n",
    "    for lcobj_name in lcobj_names:\n",
    "        lcobj = lcdataset[set_name][lcobj_name]\n",
    "        lcobjb = lcobj.get_b(b)\n",
    "        lcobjb.clip_attrs_given_max_day(thday) # clip by max day\n",
    "        if len(lcobjb)>0:\n",
    "            x += [[lcobjb.days[-1], np.log(lcobjb.obs[-1])]]\n",
    "            y += [lcobj.y]\n",
    "            \n",
    "    scatter_kwargs = {}\n",
    "    for kc,c in enumerate(class_names):\n",
    "        scatter_kwargs[c] = {\n",
    "            's':32*CLASSES_STYLES[c]['markerprop'],\n",
    "            'color':get_scaled_color(CLASSES_STYLES[c]['c'], 2.5) if c=='SNIa' else CLASSES_STYLES[c]['c'],\n",
    "            'marker':CLASSES_STYLES[c]['marker'],\n",
    "            'edgecolor':'w',\n",
    "            'linewidths':0,\n",
    "            'alpha':1,\n",
    "            'label':c.replace('*', ''),\n",
    "            }\n",
    "    x = np.array(x)\n",
    "    y = np.array(y)\n",
    "    scatter(ax, x, y, class_names, scatter_kwargs, label_format='{label} ({count}#)')\n",
    "    ax_styles.set_color_borders(ax, COLOR_DICT[b])\n",
    "    title = ''\n",
    "    title = f'{latex_bf_alphabet_count(kb)} Last observation-time v/s last observation-flux; band={b}'+'\\n'\n",
    "    ax.set_title(title[:-1])\n",
    "    ax.legend(loc='upper left')\n",
    "    ax.set_xlabel('last observation-time [days]')\n",
    "    if kb==0:\n",
    "        ax.set_ylabel('log last-observation-flux [log flux]')\n",
    "    \n",
    "fig.tight_layout()\n",
    "save_fig(fig, f'../temp/img.pdf', closes_fig=0)\n",
    "plt.show()"
   ]
  },
  {
   "cell_type": "code",
   "execution_count": null,
   "metadata": {},
   "outputs": [],
   "source": [
    "%load_ext autoreload\n",
    "%autoreload 2\n",
    "from lchandler.plots.distrs import plot_sigma_distribution\n",
    "\n",
    "plot_sigma_distribution(lcdataset, f'0@raw_train')"
   ]
  },
  {
   "cell_type": "code",
   "execution_count": null,
   "metadata": {},
   "outputs": [],
   "source": [
    "%load_ext autoreload\n",
    "%autoreload 2\n",
    "\n",
    "for kf in lcdataset.kfolds:\n",
    "    for ks, set_name in enumerate([f'{kf}@raw_train', f'{kf}@raw_val', f'{kf}@raw_test']):\n",
    "        print(f'set_name={set_name}')\n",
    "        lcdataset.sigma_clipping(set_name, set_name.replace('raw_',''),\n",
    "            sigma_n=1,\n",
    "            sigma_m=5,  # 1, 3, 5\n",
    "            apply_lower_bound=False,\n",
    "            verbose=1,\n",
    "            )\n",
    "print(lcdataset)"
   ]
  },
  {
   "cell_type": "code",
   "execution_count": null,
   "metadata": {},
   "outputs": [],
   "source": [
    "assert 0"
   ]
  },
  {
   "cell_type": "code",
   "execution_count": null,
   "metadata": {},
   "outputs": [],
   "source": [
    "lcdataset['1@test'].get_lcobj_names()"
   ]
  },
  {
   "cell_type": "code",
   "execution_count": null,
   "metadata": {},
   "outputs": [],
   "source": [
    "%load_ext autoreload\n",
    "%autoreload 2\n",
    "from lchandler.plots.distrs import plot_sigma_distribution\n",
    "\n",
    "plot_sigma_distribution(lcdataset, '0@train')"
   ]
  },
  {
   "cell_type": "code",
   "execution_count": null,
   "metadata": {},
   "outputs": [],
   "source": [
    "%load_ext autoreload\n",
    "%autoreload 2\n",
    "from lchandler.plots.distrs import plot_class_distribution\n",
    "\n",
    "plot_class_distribution(lcdataset, ['0@train', '0@val', '0@test'])"
   ]
  },
  {
   "cell_type": "code",
   "execution_count": null,
   "metadata": {},
   "outputs": [],
   "source": [
    "assert 0"
   ]
  },
  {
   "cell_type": "code",
   "execution_count": null,
   "metadata": {},
   "outputs": [],
   "source": [
    "from fuzzytools.files import load_pickle, save_pickle\n",
    "from lchandler import _C\n",
    "\n",
    "new_cfilename = f'{cfilename}'\n",
    "save_filedir = f'{root_folder}/{new_cfilename}.{_C.EXT_SPLIT_LIGHTCURVE}'\n",
    "save_pickle(save_filedir, lcdataset)"
   ]
  }
 ],
 "metadata": {
  "kernelspec": {
   "display_name": "Python 3 (ipykernel)",
   "language": "python",
   "name": "python3"
  },
  "language_info": {
   "codemirror_mode": {
    "name": "ipython",
    "version": 3
   },
   "file_extension": ".py",
   "mimetype": "text/x-python",
   "name": "python",
   "nbconvert_exporter": "python",
   "pygments_lexer": "ipython3",
   "version": "3.7.13"
  }
 },
 "nbformat": 4,
 "nbformat_minor": 4
}
