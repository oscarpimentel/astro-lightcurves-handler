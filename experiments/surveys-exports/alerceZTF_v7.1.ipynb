{
 "cells": [
  {
   "cell_type": "markdown",
   "metadata": {},
   "source": [
    "# ALeRCE classes\n",
    "\n",
    "https://github.com/ZwickyTransientFacility/ztf-avro-alert\n",
    "\n",
    "1. **AGN:** Active Galactic Nuclei\n",
    "1. **Blazar:** Blazar\n",
    "1. **CV/Nova:** Cataclysmic Variable Star/Nova\n",
    "1. **Ceph:** Cepheid Variable Star\n",
    "1. **DSCT:** Delta Scuti Star\n",
    "1. **EA:** Eclipsing Algol\n",
    "1. **EB/EW:** Eclipsing Binaries/Eclipsing W Ursa Majoris\n",
    "1. **LPV:** Long Period Variable\n",
    "1. **Periodic-Other:** Periodic-Other\n",
    "1. **QSO:** Quasi-Stellar Object\n",
    "1. **RRL:** RRLyrae Variable Star\n",
    "1. **RSCVn:** RS Canum Venaticorum\n",
    "1. **SLSN:** Super Luminous Supernova\n",
    "1. **SNII:** Supernova II\n",
    "1. **SNIIb:** Supernova IIb\n",
    "1. **SNIIn:** Supernova IIn\n",
    "1. **SNIa:** Supernova Ia\n",
    "1. **SNIbc:** Supernova Ibc\n",
    "1. **TDE:** Tidal disruption event (to remove)\n",
    "1. **YSO:** Young Stellar Object\n",
    "1. **ZZ:** ZZ Ceti Stars (to remove)"
   ]
  },
  {
   "cell_type": "code",
   "execution_count": null,
   "metadata": {},
   "outputs": [],
   "source": [
    "import sys\n",
    "sys.path.append('../../') # or just install the module\n",
    "sys.path.append('../../../fuzzy-tools') # or just install the module"
   ]
  },
  {
   "cell_type": "code",
   "execution_count": null,
   "metadata": {},
   "outputs": [],
   "source": [
    "%load_ext autoreload\n",
    "%autoreload 2\n",
    "from lchandler.surveyexport.alerce_utils import process_df_labels, process_df_detections, keep_only_valid_objs\n",
    "import numpy as np\n",
    "import pandas as pd\n",
    "\n",
    "load_rootdir = '../../../surveys-data'\n",
    "survey_name = 'alerceZTFv7.1'\n",
    "uses_corr = False # False only can be used with SNe objects\n",
    "clean_invalid_objs = True # delete a lot of objects\n",
    "df_index_names = {\n",
    "    'oid':'oid', # object id\n",
    "    'oid_det':'objectId', # object id\n",
    "    'label':'classALeRCE', # object class name\n",
    "    'ra':'ra',\n",
    "    'dec':'dec',\n",
    "    'band':'fid', # band\n",
    "    'obs_day':'mjd', # days\n",
    "    'obs':'magpsf_corr' if uses_corr else 'magpsf', # observations\n",
    "    'obs_error':'sigmapsf_corr' if uses_corr else 'sigmapsf', # observation errors\n",
    "}\n",
    "detections_cols = ['objectId', 'fid', 'mjd', df_index_names['obs'], df_index_names['obs_error']]\n",
    "\n",
    "### load files and processing\n",
    "detections_df = pd.read_parquet(f'{load_rootdir}/{survey_name}/detections_with_xmatch')\n",
    "detections_df, det_objs = process_df_detections(detections_df, df_index_names['oid_det'], df_index_names['oid'], detections_cols, uses_corr=uses_corr, clean_invalid_objs=clean_invalid_objs)\n",
    "print(f'[detections_df] columns={list(detections_df.columns)} - id={detections_df.index.name}')\n",
    "\n",
    "labels_df = pd.read_csv(f'{load_rootdir}/{survey_name}/dfcrossmatches_prioritized_v7.0.1.csv')\n",
    "labels_df, label_objs = process_df_labels(labels_df, df_index_names['oid'], det_objs)\n",
    "print(f'[labels] columns={list(labels_df.columns)} - id={labels_df.index.name}')\n",
    "\n",
    "outliers_df = pd.read_csv(f'{load_rootdir}/{survey_name}/outliers.csv')\n",
    "\n",
    "### filter\n",
    "valid_objs = list(set(det_objs) & set(label_objs))\n",
    "labels_df = keep_only_valid_objs(labels_df, valid_objs)\n",
    "detections_df = keep_only_valid_objs(detections_df, valid_objs)\n",
    "\n",
    "### print info\n",
    "classes = set(labels_df[df_index_names['label']].values)\n",
    "print('classes:', classes)"
   ]
  },
  {
   "cell_type": "code",
   "execution_count": null,
   "metadata": {},
   "outputs": [],
   "source": [
    "detections_df.info()\n",
    "detections_df[:10]"
   ]
  },
  {
   "cell_type": "code",
   "execution_count": null,
   "metadata": {},
   "outputs": [],
   "source": [
    "labels_df.info()\n",
    "labels_df[:10]"
   ]
  },
  {
   "cell_type": "code",
   "execution_count": null,
   "metadata": {},
   "outputs": [],
   "source": [
    "%matplotlib inline\n",
    "%load_ext autoreload\n",
    "%autoreload 2\n",
    "from lchandler.surveyexport.dictionary_creator import LightCurveDictionaryCreator\n",
    "\n",
    "band_dictionary = {\n",
    "    'g':1,\n",
    "    'r':2,\n",
    "}\n",
    "lcDictionaryCreator = LightCurveDictionaryCreator(survey_name, detections_df, labels_df, band_dictionary, df_index_names,\n",
    "    dataframe_obs_uses_flux=False,\n",
    "    zero_point=48.6,\n",
    "    )\n",
    "#print(lcDictionaryCreator)\n",
    "lcDictionaryCreator.plot_class_distribution(uses_log_scale=1)"
   ]
  },
  {
   "cell_type": "code",
   "execution_count": null,
   "metadata": {},
   "outputs": [],
   "source": [
    "l = lcDictionaryCreator.get_obj_names('SNIIb')\n",
    "print(f'{l} ({len(l)}#)')"
   ]
  },
  {
   "cell_type": "code",
   "execution_count": null,
   "metadata": {},
   "outputs": [],
   "source": [
    "%matplotlib inline\n",
    "%load_ext autoreload\n",
    "%autoreload 2\n",
    "DF_SN_LIST = ['SLSN' ,'SNII', 'SNIIb', 'SNIIn', 'SNIa', 'SNIbc']\n",
    "\n",
    "#mode = 'raw'\n",
    "#mode = 'simple'\n",
    "#mode = 'transients'\n",
    "#mode = 'RRCeph'\n",
    "mode = 'onlySNe'\n",
    "#mode = 'onlySNe-SLSN'\n",
    "\n",
    "if mode=='simple':\n",
    "    invalid_classes = []\n",
    "    query_classes = []\n",
    "    to_merge_classes_dic = {'SN':DF_SN_LIST,}\n",
    "    \n",
    "elif mode=='onlySNe':\n",
    "    kwargs = {\n",
    "        'invalid_classes':[],\n",
    "        'query_classes':DF_SN_LIST,\n",
    "        'merge_classes_dict':{\n",
    "            'SNII*':['SNII', 'SNIIb', 'SNIIn'],\n",
    "        },\n",
    "    }\n",
    "elif mode=='onlySNe-SLSN':\n",
    "    kwargs = {\n",
    "        'invalid_classes':[],\n",
    "        'query_classes':[sn for sn in DF_SN_LIST if not sn=='SLSN'],\n",
    "        'merge_classes_dict':{\n",
    "            'SNII*':['SNII', 'SNIIb', 'SNIIn'],\n",
    "        },\n",
    "    }\n",
    "\n",
    "elif mode=='onlySNIa':\n",
    "    kwargs = {\n",
    "        'invalid_classes':[],\n",
    "        'query_classes':DF_SN_LIST,\n",
    "        'merge_classes_dict':{\n",
    "            'non-SNIa':['SLSN' ,'SNII', 'SNIIb', 'SNIIn', 'SNIbc'],\n",
    "        },\n",
    "    }\n",
    "\n",
    "elif mode=='RRCeph':\n",
    "    invalid_classes = []\n",
    "    query_classes = ['RRL','Ceph']\n",
    "    to_merge_classes_dic = {}\n",
    "\n",
    "lcDictionaryCreator.update_labels_df(**kwargs)\n",
    "lcDictionaryCreator.plot_class_distribution(\n",
    "    figsize=(6,3),\n",
    "    uses_log_scale=1,\n",
    "    )\n",
    "#assert 0"
   ]
  },
  {
   "cell_type": "code",
   "execution_count": null,
   "metadata": {},
   "outputs": [],
   "source": [
    "%load_ext autoreload\n",
    "%autoreload 2\n",
    "\n",
    "description = 'ZTF Alerce'\n",
    "save_folder = f'../../../surveys-save'\n",
    "lcdataset = lcDictionaryCreator.export_dictionary(description, save_folder,\n",
    "    band_names=list(band_dictionary.keys()),\n",
    "    #to_export_bands=['g','r'],\n",
    "    filename_extra_parameters={'mode':mode},\n",
    "    outliers_df=outliers_df,\n",
    "    #saves_dict=True,\n",
    "    )"
   ]
  },
  {
   "cell_type": "code",
   "execution_count": null,
   "metadata": {},
   "outputs": [],
   "source": [
    "print(lcdataset)"
   ]
  },
  {
   "cell_type": "code",
   "execution_count": null,
   "metadata": {},
   "outputs": [],
   "source": [
    "import fuzzytools.lists as lists\n",
    "import matplotlib.pyplot as plt\n",
    "from lchandler.plots.lc import plot_lightcurve\n",
    "\n",
    "lcset = lcdataset['raw']\n",
    "lcobj, lcobj_name = lcset.get_random_lcobj()\n",
    "lcobj_name = 'ZTF20aadvaoi'\n",
    "lcobj = lcset[lcobj_name].copy()\n",
    "figsize = (12,5)\n",
    "dpi = 200\n",
    "fig, ax = plt.subplots(1,1, figsize=figsize, dpi=dpi)\n",
    "for kb,b in enumerate(lcset.band_names):\n",
    "    plot_lightcurve(ax, lcobj, b, f'{b} obs')\n",
    "ax.set_title(f'set={lcset.survey}; obj={lcobj_name} [{lcset.class_names[lcobj.y]}]')\n",
    "ax.set_xlabel('observation-time [days]')\n",
    "ax.set_ylabel('observation [flux]')\n",
    "ax.legend()\n",
    "ax.grid(alpha=0.0)"
   ]
  }
 ],
 "metadata": {
  "kernelspec": {
   "display_name": "Python 3",
   "language": "python",
   "name": "python3"
  },
  "language_info": {
   "codemirror_mode": {
    "name": "ipython",
    "version": 3
   },
   "file_extension": ".py",
   "mimetype": "text/x-python",
   "name": "python",
   "nbconvert_exporter": "python",
   "pygments_lexer": "ipython3",
   "version": "3.7.10"
  }
 },
 "nbformat": 4,
 "nbformat_minor": 2
}
