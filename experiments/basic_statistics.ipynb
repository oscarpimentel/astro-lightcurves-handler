{
 "cells": [
  {
   "cell_type": "code",
   "execution_count": null,
   "metadata": {},
   "outputs": [],
   "source": [
    "import sys\n",
    "sys.path.append('../') # or just install the module\n",
    "sys.path.append('../../fuzzy-tools') # or just install the module"
   ]
  },
  {
   "cell_type": "code",
   "execution_count": null,
   "metadata": {},
   "outputs": [],
   "source": [
    "from fuzzytools.files import search_for_filedirs\n",
    "from lchandler import _C\n",
    "\n",
    "root_folder = '../../surveys-save'\n",
    "filedirs = search_for_filedirs(root_folder, fext=_C.EXT_RAW_LIGHTCURVE)"
   ]
  },
  {
   "cell_type": "code",
   "execution_count": null,
   "metadata": {},
   "outputs": [],
   "source": [
    "%load_ext autoreload\n",
    "%autoreload 2\n",
    "import numpy as np\n",
    "from fuzzytools.progress_bars import ProgressBar\n",
    "from fuzzytools.files import load_pickle, save_pickle\n",
    "from fuzzytools.files import get_dict_from_filedir\n",
    "\n",
    "filedir = f'../../surveys-save/survey=alerceZTFv7.1~bands=gr~mode=onlySNe.ralcds'\n",
    "filedict = get_dict_from_filedir(filedir)\n",
    "root_folder = filedict['_rootdir']\n",
    "cfilename = filedict['_cfilename']\n",
    "survey = filedict['survey']\n",
    "lcdataset = load_pickle(filedir)\n",
    "print(lcdataset)"
   ]
  },
  {
   "cell_type": "code",
   "execution_count": null,
   "metadata": {},
   "outputs": [],
   "source": [
    "%load_ext autoreload\n",
    "%autoreload 2\n",
    "import numpy as np\n",
    "import fuzzytools.matplotlib.plots as cplots\n",
    "import pandas as pd\n",
    "\n",
    "lcset = lcdataset['raw']\n",
    "lcobj_names = lcset.get_lcobj_names()\n",
    "b = 'g'\n",
    "x = []\n",
    "for lcobj_name in lcobj_names:\n",
    "    lcobj = lcset[lcobj_name]\n",
    "    lcobjb = lcobj.get_b(b)\n",
    "    if len(lcobjb)>0:\n",
    "        peak_day = lcobjb.get_max_brightness_time()\n",
    "        first_day = np.min(lcobjb.days)\n",
    "        last_day = np.max(lcobjb.days)\n",
    "        #if first_day>0:\n",
    "        x += [peak_day]\n",
    "    \n",
    "print(b,np.mean(x, axis=0))\n",
    "plot_dict = {b:x,}\n",
    "plot_df = pd.DataFrame.from_dict(plot_dict, orient='columns')\n",
    "fig, ax = cplots.plot_hist_bins(plot_df)"
   ]
  },
  {
   "cell_type": "code",
   "execution_count": null,
   "metadata": {},
   "outputs": [],
   "source": [
    "%load_ext autoreload\n",
    "%autoreload 2\n",
    "from lchandler.plots.distrs import plot_values_distribution\n",
    "\n",
    "lcset_name = 'raw'\n",
    "lcset = lcdataset[lcset_name]\n",
    "lcset.set_diff_parallel('days')\n",
    "#print(lcdataset[lcset_name].get_lcobj_names())\n",
    "#print(lcset['ZTF18aaaqexr'].get_b('g').days)\n",
    "#print(lcset['ZTF18aaaqexr'].get_b('g').d_days)\n",
    "title = ''\n",
    "title += f'delta-time distribution'+'\\n'\n",
    "title += f'survey={lcset.survey}-{\"\".join(lcset.band_names)} [{lcset_name}]'+'\\n'\n",
    "kwargs = {\n",
    "    'title':title[:-1],\n",
    "    'xlabel':f'delta-time [days]',\n",
    "    'p':0.5,\n",
    "}\n",
    "plot_values_distribution(lcdataset, lcset_name, 'd_days', **kwargs)"
   ]
  },
  {
   "cell_type": "code",
   "execution_count": null,
   "metadata": {},
   "outputs": [],
   "source": [
    "%load_ext autoreload\n",
    "%autoreload 2\n",
    "from lchandler.plots.distrs import plot_values_distribution\n",
    "\n",
    "lcset_name = 'raw'\n",
    "lcset = lcdataset[lcset_name]\n",
    "lcset.set_diff_parallel('days')\n",
    "#print(lcdataset[lcset_name].get_lcobj_names())\n",
    "#print(lcset['ZTF18aaaqexr'].get_b('g').days)\n",
    "#print(lcset['ZTF18aaaqexr'].get_b('g').d_days)\n",
    "title = ''\n",
    "title += f'observation distribution'+'\\n'\n",
    "title += f'survey={lcset.survey}-{\"\".join(lcset.band_names)} [{lcset_name}]'+'\\n'\n",
    "kwargs = {\n",
    "    'title':title[:-1],\n",
    "    'xlabel':f'observation [flux]',\n",
    "    'p':1,\n",
    "}\n",
    "plot_values_distribution(lcdataset, lcset_name, 'obs', **kwargs)"
   ]
  },
  {
   "cell_type": "code",
   "execution_count": null,
   "metadata": {},
   "outputs": [],
   "source": [
    "%load_ext autoreload\n",
    "%autoreload 2\n",
    "from lchandler.plots.scatters import plot_obs_obse_scatter\n",
    "\n",
    "plot_obs_obse_scatter(lcdataset, ['0@train', '0@val', '0@test'])"
   ]
  }
 ],
 "metadata": {
  "kernelspec": {
   "display_name": "Python 3 (ipykernel)",
   "language": "python",
   "name": "python3"
  },
  "language_info": {
   "codemirror_mode": {
    "name": "ipython",
    "version": 3
   },
   "file_extension": ".py",
   "mimetype": "text/x-python",
   "name": "python",
   "nbconvert_exporter": "python",
   "pygments_lexer": "ipython3",
   "version": "3.7.11"
  }
 },
 "nbformat": 4,
 "nbformat_minor": 4
}
