{
 "cells": [
  {
   "cell_type": "code",
   "execution_count": 1,
   "metadata": {},
   "outputs": [],
   "source": [
    "import sys\n",
    "sys.path.append('../') # or just install the module\n",
    "sys.path.append('../../fuzzy-tools') # or just install the module"
   ]
  },
  {
   "cell_type": "code",
   "execution_count": 2,
   "metadata": {},
   "outputs": [],
   "source": [
    "from fuzzytools.files import search_for_filedirs\n",
    "from lchandler import _C\n",
    "\n",
    "root_folder = '../../surveys-save'\n",
    "filedirs = search_for_filedirs(root_folder, fext=_C.EXT_RAW_LIGHTCURVE)"
   ]
  },
  {
   "cell_type": "code",
   "execution_count": 3,
   "metadata": {},
   "outputs": [
    {
     "name": "stdout",
     "output_type": "stream",
     "text": [
      "LCDataset:\n",
      "[outliers; samples 4]\n",
      "(.) obs_samples=289; min_len=14; max_dur=408.0[days]; dur(p50)=222.1[days]; cadence(p50)=0.9[days]\n",
      "(g) obs_samples=144; min_len=6; tmax=44.923828125; max_dur=408.0 [days]; dur(p50)=222.0 [days]; cadence(p50)=1.9 [days]\n",
      "(r) obs_samples=145; min_len=8; tmax=212.09375; max_dur=376.0 [days]; dur(p50)=220.4 [days]; cadence(p50)=2.0 [days]\n",
      "   |██      | SLSN - 1/4 (25.00%)\n",
      "   |████    | SNIIbn - 2/4 (50.00%)\n",
      "   |██      | SNIa - 1/4 (25.00%)\n",
      "   |        | SNIbc - 0/4 (0.00%)\n",
      "────────────────────────────────────────────────────────────────────────────────────────────────────\n",
      "[faint; samples 0]\n",
      "empty lcset\n",
      "────────────────────────────────────────────────────────────────────────────────────────────────────\n",
      "[raw; samples 1,994]\n",
      "(.) obs_samples=54,685; min_len=6; max_dur=538.8[days]; dur(p50)=52.9[days]; cadence(p50)=1.0[days]\n",
      "(g) obs_samples=24,132; min_len=0; tmax=10.99609375; max_dur=538.8 [days]; dur(p50)=39.0 [days]; cadence(p50)=3.0 [days]\n",
      "(r) obs_samples=30,553; min_len=0; tmax=13.04296875; max_dur=538.7 [days]; dur(p50)=50.9 [days]; cadence(p50)=3.0 [days]\n",
      "   |        | SLSN - 30/1,994 (1.50%)\n",
      "   |█▍      | SNIIbn - 364/1,994 (18.25%)\n",
      "   |██████  | SNIa - 1,500/1,994 (75.23%)\n",
      "   |▍       | SNIbc - 100/1,994 (5.02%)\n",
      "────────────────────────────────────────────────────────────────────────────────────────────────────\n",
      "\n"
     ]
    }
   ],
   "source": [
    "%load_ext autoreload\n",
    "%autoreload 2\n",
    "import numpy as np\n",
    "from fuzzytools.progress_bars import ProgressBar\n",
    "from fuzzytools.files import load_pickle, save_pickle\n",
    "from fuzzytools.files import get_dict_from_filedir\n",
    "\n",
    "filedir = f'../../surveys-save/survey=alerceZTFv7.1~bands=gr~mode=onlySNe.ralcds'\n",
    "filedict = get_dict_from_filedir(filedir)\n",
    "root_folder = filedict['_rootdir']\n",
    "cfilename = filedict['_cfilename']\n",
    "survey = filedict['survey']\n",
    "lcdataset = load_pickle(filedir)\n",
    "print(lcdataset)"
   ]
  },
  {
   "cell_type": "code",
   "execution_count": 4,
   "metadata": {},
   "outputs": [
    {
     "name": "stdout",
     "output_type": "stream",
     "text": [
      "The autoreload extension is already loaded. To reload it, use:\n",
      "  %reload_ext autoreload\n",
      "g 11.725372\n"
     ]
    },
    {
     "data": {
      "image/png": "[encoded data removed]",
      "text/plain": [
       "<Figure size 880x320 with 1 Axes>"
      ]
     },
     "metadata": {
      "needs_background": "light"
     },
     "output_type": "display_data"
    }
   ],
   "source": [
    "%load_ext autoreload\n",
    "%autoreload 2\n",
    "import numpy as np\n",
    "import fuzzytools.matplotlib.plots as cplots\n",
    "import pandas as pd\n",
    "\n",
    "lcset = lcdataset['raw']\n",
    "lcobj_names = lcset.get_lcobj_names()\n",
    "b = 'g'\n",
    "x = []\n",
    "for lcobj_name in lcobj_names:\n",
    "    lcobj = lcset[lcobj_name]\n",
    "    lcobjb = lcobj.get_b(b)\n",
    "    if len(lcobjb)>0:\n",
    "        peak_day = lcobjb.get_max_brightness_time()\n",
    "        first_day = np.min(lcobjb.days)\n",
    "        last_day = np.max(lcobjb.days)\n",
    "        #if first_day>0:\n",
    "        x += [peak_day]\n",
    "    \n",
    "print(b,np.mean(x, axis=0))\n",
    "plot_dict = {b:x,}\n",
    "plot_df = pd.DataFrame.from_dict(plot_dict, orient='columns')\n",
    "fig, ax = cplots.plot_hist_bins(plot_df)"
   ]
  },
  {
   "cell_type": "code",
   "execution_count": 5,
   "metadata": {},
   "outputs": [
    {
     "name": "stdout",
     "output_type": "stream",
     "text": [
      "The autoreload extension is already loaded. To reload it, use:\n",
      "  %reload_ext autoreload\n"
     ]
    },
    {
     "ename": "AttributeError",
     "evalue": "'LCO' object has no attribute 'set_diff_parallel'",
     "output_type": "error",
     "traceback": [
      "\u001b[0;31m---------------------------------------------------------------------------\u001b[0m",
      "\u001b[0;31mAttributeError\u001b[0m                            Traceback (most recent call last)",
      "\u001b[0;32m/tmp/ipykernel_19761/2639145136.py\u001b[0m in \u001b[0;36m<module>\u001b[0;34m\u001b[0m\n\u001b[1;32m      5\u001b[0m \u001b[0mlcset_name\u001b[0m \u001b[0;34m=\u001b[0m \u001b[0;34m'raw'\u001b[0m\u001b[0;34m\u001b[0m\u001b[0;34m\u001b[0m\u001b[0m\n\u001b[1;32m      6\u001b[0m \u001b[0mlcset\u001b[0m \u001b[0;34m=\u001b[0m \u001b[0mlcdataset\u001b[0m\u001b[0;34m[\u001b[0m\u001b[0mlcset_name\u001b[0m\u001b[0;34m]\u001b[0m\u001b[0;34m\u001b[0m\u001b[0;34m\u001b[0m\u001b[0m\n\u001b[0;32m----> 7\u001b[0;31m \u001b[0mlcset\u001b[0m\u001b[0;34m.\u001b[0m\u001b[0mset_diff_parallel\u001b[0m\u001b[0;34m(\u001b[0m\u001b[0;34m'days'\u001b[0m\u001b[0;34m)\u001b[0m\u001b[0;34m\u001b[0m\u001b[0;34m\u001b[0m\u001b[0m\n\u001b[0m\u001b[1;32m      8\u001b[0m \u001b[0;31m#print(lcdataset[lcset_name].get_lcobj_names())\u001b[0m\u001b[0;34m\u001b[0m\u001b[0;34m\u001b[0m\u001b[0;34m\u001b[0m\u001b[0m\n\u001b[1;32m      9\u001b[0m \u001b[0;31m#print(lcset['ZTF18aaaqexr'].get_b('g').days)\u001b[0m\u001b[0;34m\u001b[0m\u001b[0;34m\u001b[0m\u001b[0;34m\u001b[0m\u001b[0m\n",
      "\u001b[0;32m~/oscar/thesis/astro-lightcurves-handler/lchandler/dataset_classes.py\u001b[0m in \u001b[0;36mset_diff_parallel\u001b[0;34m(self, attr)\u001b[0m\n\u001b[1;32m    277\u001b[0m \t\t'''\n\u001b[1;32m    278\u001b[0m                 \u001b[0;32mfor\u001b[0m \u001b[0mlcobj_name\u001b[0m \u001b[0;32min\u001b[0m \u001b[0mself\u001b[0m\u001b[0;34m.\u001b[0m\u001b[0mget_lcobj_names\u001b[0m\u001b[0;34m(\u001b[0m\u001b[0;34m)\u001b[0m\u001b[0;34m:\u001b[0m\u001b[0;34m\u001b[0m\u001b[0;34m\u001b[0m\u001b[0m\n\u001b[0;32m--> 279\u001b[0;31m                         \u001b[0mself\u001b[0m\u001b[0;34m[\u001b[0m\u001b[0mlcobj_name\u001b[0m\u001b[0;34m]\u001b[0m\u001b[0;34m.\u001b[0m\u001b[0mset_diff_parallel\u001b[0m\u001b[0;34m(\u001b[0m\u001b[0mattr\u001b[0m\u001b[0;34m)\u001b[0m\u001b[0;34m\u001b[0m\u001b[0;34m\u001b[0m\u001b[0m\n\u001b[0m\u001b[1;32m    280\u001b[0m \u001b[0;34m\u001b[0m\u001b[0m\n\u001b[1;32m    281\u001b[0m         \u001b[0;32mdef\u001b[0m \u001b[0mkeys\u001b[0m\u001b[0;34m(\u001b[0m\u001b[0mself\u001b[0m\u001b[0;34m)\u001b[0m\u001b[0;34m:\u001b[0m\u001b[0;34m\u001b[0m\u001b[0;34m\u001b[0m\u001b[0m\n",
      "\u001b[0;31mAttributeError\u001b[0m: 'LCO' object has no attribute 'set_diff_parallel'"
     ]
    }
   ],
   "source": [
    "%load_ext autoreload\n",
    "%autoreload 2\n",
    "from lchandler.plots.distrs import plot_values_distribution\n",
    "\n",
    "lcset_name = 'raw'\n",
    "lcset = lcdataset[lcset_name]\n",
    "lcset.set_diff_parallel('days')\n",
    "#print(lcdataset[lcset_name].get_lcobj_names())\n",
    "#print(lcset['ZTF18aaaqexr'].get_b('g').days)\n",
    "#print(lcset['ZTF18aaaqexr'].get_b('g').d_days)\n",
    "title = ''\n",
    "title += f'delta-time distribution'+'\\n'\n",
    "title += f'survey={lcset.survey}-{\"\".join(lcset.band_names)} [{lcset_name}]'+'\\n'\n",
    "kwargs = {\n",
    "    'title':title[:-1],\n",
    "    'xlabel':f'delta-time [days]',\n",
    "    'p':0.5,\n",
    "}\n",
    "plot_values_distribution(lcdataset, lcset_name, 'd_days', **kwargs)"
   ]
  },
  {
   "cell_type": "code",
   "execution_count": null,
   "metadata": {},
   "outputs": [],
   "source": [
    "%load_ext autoreload\n",
    "%autoreload 2\n",
    "from lchandler.plots.distrs import plot_values_distribution\n",
    "\n",
    "lcset_name = 'raw'\n",
    "lcset = lcdataset[lcset_name]\n",
    "lcset.set_diff_parallel('days')\n",
    "#print(lcdataset[lcset_name].get_lcobj_names())\n",
    "#print(lcset['ZTF18aaaqexr'].get_b('g').days)\n",
    "#print(lcset['ZTF18aaaqexr'].get_b('g').d_days)\n",
    "title = ''\n",
    "title += f'observation distribution'+'\\n'\n",
    "title += f'survey={lcset.survey}-{\"\".join(lcset.band_names)} [{lcset_name}]'+'\\n'\n",
    "kwargs = {\n",
    "    'title':title[:-1],\n",
    "    'xlabel':f'observation [flux]',\n",
    "    'p':1,\n",
    "}\n",
    "plot_values_distribution(lcdataset, lcset_name, 'obs', **kwargs)"
   ]
  },
  {
   "cell_type": "code",
   "execution_count": null,
   "metadata": {},
   "outputs": [],
   "source": [
    "%load_ext autoreload\n",
    "%autoreload 2\n",
    "from lchandler.plots.scatters import plot_obs_obse_scatter\n",
    "\n",
    "plot_obs_obse_scatter(lcdataset, ['0@train', '0@val', '0@test'])"
   ]
  }
 ],
 "metadata": {
  "kernelspec": {
   "display_name": "Python 3 (ipykernel)",
   "language": "python",
   "name": "python3"
  },
  "language_info": {
   "codemirror_mode": {
    "name": "ipython",
    "version": 3
   },
   "file_extension": ".py",
   "mimetype": "text/x-python",
   "name": "python",
   "nbconvert_exporter": "python",
   "pygments_lexer": "ipython3",
   "version": "3.7.11"
  }
 },
 "nbformat": 4,
 "nbformat_minor": 4
}
