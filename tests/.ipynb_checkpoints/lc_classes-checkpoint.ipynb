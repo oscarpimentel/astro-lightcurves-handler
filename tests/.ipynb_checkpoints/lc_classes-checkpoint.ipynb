{
 "cells": [
  {
   "cell_type": "code",
   "execution_count": 1,
   "metadata": {},
   "outputs": [],
   "source": [
    "import sys\n",
    "sys.path.append('../') # or just install the module\n",
    "sys.path.append('../../fuzzy-tools') # or just install the module"
   ]
  },
  {
   "cell_type": "code",
   "execution_count": 2,
   "metadata": {},
   "outputs": [],
   "source": [
    "import numpy as np\n",
    "\n",
    "days_r = np.array([  5.0656829,   8.0996528,  13.061713 ,  22.0009838,  26.0215625,\n",
    "        28.9802662,  39.0096875,  44.9532755,  49.0039121,  60.9926389,\n",
    "        66.975706 ,  69.9134838,  72.9389468,  75.9405671,  80.8963426,\n",
    "        86.8977894,  92.9196528,  97.9758681, 100.8779861, 103.9104283,\n",
    "       108.9143982, 111.8984259, 114.9420139, 122.8789236, 148.8506482])\n",
    "obs_r = np.array([0.09369501, 0.12422294, 0.17632272, 0.21543042, 0.26436687,\n",
    "       0.28861551, 0.33934311, 0.34162441, 0.3635561 , 0.35546735,\n",
    "       0.32118441, 0.29078965, 0.26576802, 0.23397065, 0.20949038,\n",
    "       0.18816455, 0.16633398, 0.17401421, 0.16234064, 0.14769087,\n",
    "       0.15370163, 0.14437344, 0.14757494, 0.15973237, 0.06021994])\n",
    "obse_r = np.array([0.01520713, 0.01580251, 0.01577605, 0.03399303, 0.01714344,\n",
    "       0.01226538, 0.02021915, 0.0196518 , 0.01763097, 0.01974572,\n",
    "       0.02135111, 0.01782387, 0.01586518, 0.01186198, 0.01960087,\n",
    "       0.01389926, 0.01094066, 0.0110298 , 0.01334426, 0.01444601,\n",
    "       0.01355199, 0.0122024 , 0.01094715, 0.01098468, 0.00795538])\n",
    "days_g = np.array([  0.       ,   5.041794 ,  13.1063773,  16.0641551,  18.9786921,\n",
    "        32.9421644,  39.1044097,  44.9796991,  48.936956 ,  60.9187847,\n",
    "        66.9435417,  69.9383333,  72.8977315,  75.8996991,  83.8982755,\n",
    "        86.9468634,  89.8980324,  97.8986921, 100.912581 , 114.8746065,\n",
    "       117.8932176, 122.902882 , 125.9555324])\n",
    "obs_g = np.array([0.04058823, 0.08495003, 0.15179164, 0.16671223, 0.18171548,\n",
    "       0.21404183, 0.21082352, 0.20682718, 0.19194895, 0.18450144,\n",
    "       0.14277814, 0.12811022, 0.11172354, 0.09822171, 0.07378358,\n",
    "       0.06712033, 0.06358189, 0.06440931, 0.05949815, 0.06132898,\n",
    "       0.06220779, 0.05560232, 0.05380362])\n",
    "obse_g = np.array([0.00802027, 0.00985233, 0.01225903, 0.01328017, 0.01388184,\n",
    "       0.01358495, 0.01222989, 0.01319812, 0.0132215 , 0.01339098,\n",
    "       0.010816  , 0.01117299, 0.00979144, 0.0105853 , 0.01572488,\n",
    "       0.00995968, 0.00726456, 0.00712653, 0.00626655, 0.00913009,\n",
    "       0.00674099, 0.00771989, 0.00955539])"
   ]
  },
  {
   "cell_type": "code",
   "execution_count": 4,
   "metadata": {
    "scrolled": false
   },
   "outputs": [
    {
     "name": "stdout",
     "output_type": "stream",
     "text": [
      "The autoreload extension is already loaded. To reload it, use:\n",
      "  %reload_ext autoreload\n",
      "(g:23) - [d:[  0.         5.041794  13.106377  16.064156  18.978693  32.942165\n",
      "  39.10441   44.9797    48.936954  60.918785  66.94354   69.93833\n",
      "  72.89773   75.8997    83.89828   86.94686   89.89803   97.89869\n",
      " 100.91258  114.8746   117.89322  122.90288  125.955536]float32, o:[0.04058823 0.08495003 0.15179165 0.16671222 0.18171547 0.21404183\n",
      " 0.21082352 0.20682718 0.19194895 0.18450144 0.14277814 0.12811022\n",
      " 0.11172354 0.09822171 0.07378358 0.06712033 0.06358189 0.06440931\n",
      " 0.05949815 0.06132898 0.06220779 0.05560232 0.05380362]float32, oe:[0.00802027 0.00985233 0.01225903 0.01328017 0.01388184 0.01358495\n",
      " 0.01222989 0.01319812 0.0132215  0.01339098 0.010816   0.01117299\n",
      " 0.00979144 0.0105853  0.01572488 0.00995968 0.00726456 0.00712653\n",
      " 0.00626655 0.00913009 0.00674099 0.00771989 0.00955539]float32]\n",
      "(r:25) - [d:[  5.0656834   8.099653   13.061712   22.000984   26.02156    28.980267\n",
      "  39.00969    44.953274   49.003914   60.992638   66.97571    69.91348\n",
      "  72.93895    75.94057    80.89634    86.89779    92.919655   97.97587\n",
      " 100.87798   103.91043   108.9144    111.89842   114.94202   122.87892\n",
      " 148.85065  ]float32, o:[0.09369501 0.12422294 0.17632271 0.21543042 0.26436687 0.28861552\n",
      " 0.3393431  0.3416244  0.3635561  0.35546735 0.3211844  0.29078966\n",
      " 0.26576802 0.23397066 0.20949037 0.18816455 0.16633397 0.17401421\n",
      " 0.16234064 0.14769088 0.15370163 0.14437345 0.14757495 0.15973237\n",
      " 0.06021994]float32, oe:[0.01520713 0.01580251 0.01577605 0.03399303 0.01714344 0.01226538\n",
      " 0.02021915 0.0196518  0.01763097 0.01974572 0.02135111 0.01782387\n",
      " 0.01586518 0.01186198 0.01960087 0.01389926 0.01094066 0.0110298\n",
      " 0.01334426 0.01444601 0.01355199 0.0122024  0.01094715 0.01098468\n",
      " 0.00795538]float32]\n",
      "\n"
     ]
    },
    {
     "ename": "AttributeError",
     "evalue": "'NoneType' object has no attribute 'days'",
     "output_type": "error",
     "traceback": [
      "\u001b[0;31m---------------------------------------------------------------------------\u001b[0m",
      "\u001b[0;31mAttributeError\u001b[0m                            Traceback (most recent call last)",
      "\u001b[0;32m/tmp/ipykernel_20491/2469906832.py\u001b[0m in \u001b[0;36m<module>\u001b[0;34m\u001b[0m\n\u001b[1;32m     21\u001b[0m \u001b[0;34m\u001b[0m\u001b[0m\n\u001b[1;32m     22\u001b[0m \u001b[0mfig\u001b[0m\u001b[0;34m,\u001b[0m \u001b[0max\u001b[0m \u001b[0;34m=\u001b[0m \u001b[0mplt\u001b[0m\u001b[0;34m.\u001b[0m\u001b[0msubplots\u001b[0m\u001b[0;34m(\u001b[0m\u001b[0;36m1\u001b[0m\u001b[0;34m,\u001b[0m \u001b[0;36m1\u001b[0m\u001b[0;34m,\u001b[0m \u001b[0mfigsize\u001b[0m\u001b[0;34m=\u001b[0m\u001b[0;34m(\u001b[0m\u001b[0;36m10\u001b[0m\u001b[0;34m,\u001b[0m\u001b[0;36m3\u001b[0m\u001b[0;34m)\u001b[0m\u001b[0;34m)\u001b[0m\u001b[0;34m\u001b[0m\u001b[0;34m\u001b[0m\u001b[0m\n\u001b[0;32m---> 23\u001b[0;31m \u001b[0mplot_lightcurve\u001b[0m\u001b[0;34m(\u001b[0m\u001b[0max\u001b[0m\u001b[0;34m,\u001b[0m \u001b[0mmerged_band\u001b[0m\u001b[0;34m,\u001b[0m \u001b[0;32mNone\u001b[0m\u001b[0;34m,\u001b[0m \u001b[0;34m'k'\u001b[0m\u001b[0;34m)\u001b[0m\u001b[0;34m\u001b[0m\u001b[0;34m\u001b[0m\u001b[0m\n\u001b[0m\u001b[1;32m     24\u001b[0m \u001b[0mplt\u001b[0m\u001b[0;34m.\u001b[0m\u001b[0mshow\u001b[0m\u001b[0;34m(\u001b[0m\u001b[0;34m)\u001b[0m\u001b[0;34m\u001b[0m\u001b[0;34m\u001b[0m\u001b[0m\n\u001b[1;32m     25\u001b[0m \u001b[0;34m\u001b[0m\u001b[0m\n",
      "\u001b[0;32m~/oscar/thesis/astro-lightcurves-handler/lchandler/plots/lc.py\u001b[0m in \u001b[0;36mplot_lightcurve\u001b[0;34m(ax, lcobj, b, label, max_day, alpha, capsize, x_margin_offset_percent, y_margin_offset_percent, label_snr, label_len)\u001b[0m\n\u001b[1;32m     28\u001b[0m \t):\n\u001b[1;32m     29\u001b[0m         \u001b[0mlcobjb\u001b[0m \u001b[0;34m=\u001b[0m \u001b[0mlcobj\u001b[0m\u001b[0;34m.\u001b[0m\u001b[0mget_b\u001b[0m\u001b[0;34m(\u001b[0m\u001b[0mb\u001b[0m\u001b[0;34m)\u001b[0m \u001b[0;32mif\u001b[0m \u001b[0;32mnot\u001b[0m \u001b[0mb\u001b[0m \u001b[0;32mis\u001b[0m \u001b[0;32mNone\u001b[0m \u001b[0;32melse\u001b[0m \u001b[0mlcobj\u001b[0m\u001b[0;34m\u001b[0m\u001b[0;34m\u001b[0m\u001b[0m\n\u001b[0;32m---> 30\u001b[0;31m         \u001b[0mnew_days\u001b[0m \u001b[0;34m=\u001b[0m \u001b[0mlcobjb\u001b[0m\u001b[0;34m.\u001b[0m\u001b[0mdays\u001b[0m\u001b[0;34m\u001b[0m\u001b[0;34m\u001b[0m\u001b[0m\n\u001b[0m\u001b[1;32m     31\u001b[0m         \u001b[0mvalid_indexs\u001b[0m \u001b[0;34m=\u001b[0m \u001b[0mnew_days\u001b[0m\u001b[0;34m<=\u001b[0m\u001b[0mmax_day\u001b[0m\u001b[0;34m\u001b[0m\u001b[0;34m\u001b[0m\u001b[0m\n\u001b[1;32m     32\u001b[0m         \u001b[0mnew_days\u001b[0m \u001b[0;34m=\u001b[0m \u001b[0mnew_days\u001b[0m\u001b[0;34m[\u001b[0m\u001b[0mvalid_indexs\u001b[0m\u001b[0;34m]\u001b[0m\u001b[0;34m\u001b[0m\u001b[0;34m\u001b[0m\u001b[0m\n",
      "\u001b[0;31mAttributeError\u001b[0m: 'NoneType' object has no attribute 'days'"
     ]
    },
    {
     "data": {
      "image/png": "[encoded data removed]",
      "text/plain": [
       "<Figure size 720x216 with 1 Axes>"
      ]
     },
     "metadata": {
      "needs_background": "light"
     },
     "output_type": "display_data"
    },
    {
     "data": {
      "image/png": "[encoded data removed]",
      "text/plain": [
       "<Figure size 720x216 with 1 Axes>"
      ]
     },
     "metadata": {
      "needs_background": "light"
     },
     "output_type": "display_data"
    }
   ],
   "source": [
    "%load_ext autoreload\n",
    "%autoreload 2\n",
    "import numpy as np\n",
    "from lchandler.lc_classes import LCO\n",
    "from lchandler.plots.lc import plot_lightcurve\n",
    "import matplotlib.pyplot as plt\n",
    "\n",
    "band_names = ['g', 'r']\n",
    "lcobj = LCO()\n",
    "bands = {\n",
    "    'g':[days_g+7, obs_g, obse_g],\n",
    "    'r':[days_r+7, obs_r, obse_r],\n",
    "}\n",
    "lcobj.add_bands(bands)\n",
    "merged_band = lcobj.get_mb()\n",
    "print(lcobj)\n",
    "\n",
    "fig, ax = plt.subplots(1, 1, figsize=(10,3))\n",
    "for kb,b in enumerate(band_names):\n",
    "    plot_lightcurve(ax, lcobj, b, b)\n",
    "\n",
    "fig, ax = plt.subplots(1, 1, figsize=(10,3))\n",
    "plot_lightcurve(ax, merged_band, None, 'k')\n",
    "plt.show()\n",
    "\n",
    "print('get_onehot_serial',lcobj.get_onehot_serial())\n",
    "print('get_serial_days',lcobj.get_serial_days()[:,0])\n",
    "print('get_serial_diff_days',lcobj.get_serial_diff_days())\n",
    "print('get_serial_days_duration',lcobj.get_serial_days_duration())\n",
    "print('get_parallel_diff_days',lcobj.get_parallel_diff_days())"
   ]
  },
  {
   "cell_type": "code",
   "execution_count": null,
   "metadata": {
    "scrolled": false
   },
   "outputs": [],
   "source": [
    "%load_ext autoreload\n",
    "%autoreload 2\n",
    "import numpy as np\n",
    "from lchandler.lc_classes import LCO\n",
    "from fuzzytools.matplotlib.animators import PlotAnimator\n",
    "\n",
    "n = 100\n",
    "### SYNTHETIC\n",
    "OBSE_STD_SCALE = 0/2 # 2.5 # 2 2.5 3 5 10 important\n",
    "CPDS_P = 10./100. # curve points down sampling probability\n",
    "HOURS_NOISE_AMP = 5. # 5\n",
    "# ds_mode = {'random':0.0, 'left':0.0, 'none':1.0}\n",
    "ds_mode = {'random':.9, 'left':.1, 'none':0.0}\n",
    "print('s_ds_mode', ds_mode)\n",
    "ds_p = 10/100\n",
    "\n",
    "animation = PlotAnimator(.2*n,\n",
    "    init_offset=0,\n",
    "    end_offset=0,\n",
    "    is_dummy=True,\n",
    "    )\n",
    "for _ in range(0,n):\n",
    "    _lcobj = lcobj.copy()\n",
    "    for b in _lcobj.bands:\n",
    "        lcobjb = _lcobj.get_b(b)\n",
    "        lcobjb.apply_downsampling_window(ds_mode, ds_p) # curve points downsampling\n",
    "        #lcobjb.add_day_noise_uniform(HOURS_NOISE_AMP) # add day noise\n",
    "        lcobjb.add_obs_noise_gaussian(0, OBSE_STD_SCALE) # add obs noise\n",
    "        #lcobjb.add_obs_noise_gaussian(0., 1/1) # add obs noise\n",
    "    \n",
    "    #day_offset = _lcobj.reset_day_offset_serial()\n",
    "    fig, axs = plt.subplots(2, 1, figsize=(10,6))\n",
    "    ax = axs[0]\n",
    "    for kb,b in enumerate(band_names):\n",
    "        plot_lightcurve(ax, lcobj, b, b)\n",
    "    ax.set_xlim([0, 150])\n",
    "    ax.grid(alpha=.5)\n",
    "    ax.set_title(f'')\n",
    "    \n",
    "    ax = axs[1]\n",
    "    for kb,b in enumerate(band_names):\n",
    "        plot_lightcurve(ax, _lcobj, b, b)\n",
    "    ax.set_xlim([0, 150])\n",
    "    ax.set_ylim([0, 0.4])\n",
    "    ax.grid(alpha=.5)\n",
    "    animation.append(fig, uses_close_fig=True)\n",
    "    break\n",
    "    \n",
    "animation.save('../temp/animation.gif')"
   ]
  },
  {
   "cell_type": "code",
   "execution_count": null,
   "metadata": {},
   "outputs": [],
   "source": [
    "%load_ext autoreload\n",
    "%autoreload 2\n",
    "import numpy as np\n",
    "from lchandler.lc_classes import LCO\n",
    "\n",
    "lcobj2 = lcobj.copy()\n",
    "lcobj2.r.clip_attrs_given_max_duration(60)\n",
    "fig, axs = plt.subplots(2, 1, figsize=(14,6))\n",
    "ax = axs[0]\n",
    "for kb,b in enumerate(band_names):\n",
    "    plot_lightcurve(ax, lcobj, b, 'b')\n",
    "ax = axs[1]\n",
    "for kb,b in enumerate(band_names):\n",
    "    plot_lightcurve(ax, lcobj2, b, 'b')\n",
    "plt.show()"
   ]
  },
  {
   "cell_type": "markdown",
   "metadata": {},
   "source": [
    "# complete data augmentation"
   ]
  },
  {
   "cell_type": "code",
   "execution_count": null,
   "metadata": {},
   "outputs": [],
   "source": [
    "%load_ext autoreload\n",
    "%autoreload 2\n",
    "import numpy as np\n",
    "from lchandler.lc_classes import LCO\n",
    "\n",
    "lcobj2 = lcobj.copy()\n",
    "ds_mode = {'random':.8, 'left':.2, 'none':.0}\n",
    "ds_p = 10/100\n",
    "for b in lcobj2.bands:\n",
    "    lcobj2.get_b(b).apply_downsampling_window(ds_mode, ds_p)\n",
    "    lcobj2.get_b(b).add_obs_noise_gaussian(0, 1)\n",
    "lcobj2.reset_day_offset_serial()\n",
    "print('get_onehot_serial',lcobj2.get_onehot_serial())\n",
    "print('get_serial_days',lcobj2.get_serial_days()[:,0])\n",
    "print('get_serial_diff_days',lcobj2.get_serial_diff_days())\n",
    "print('get_serial_days_duration',lcobj2.get_serial_days_duration())\n",
    "print('get_parallel_days',lcobj2.get_parallel_days())\n",
    "print('get_parallel_diff_days',lcobj2.get_parallel_diff_days())\n",
    "\n",
    "fig, axs = plt.subplots(1, 1, figsize=(14,5))\n",
    "ax = axs\n",
    "for kb,b in enumerate(band_names):\n",
    "    plot_lightcurve(ax, lcobj, b, alpha=0.25, label=f'{b} original')\n",
    "for kb,b in enumerate(band_names):\n",
    "    plot_lightcurve(ax, lcobj2, b, label=f'{b} after data-augmentation')\n",
    "ax.legend(loc='upper right')\n",
    "ax.grid(0.5)\n",
    "plt.show()"
   ]
  }
 ],
 "metadata": {
  "kernelspec": {
   "display_name": "Python 3 (ipykernel)",
   "language": "python",
   "name": "python3"
  },
  "language_info": {
   "codemirror_mode": {
    "name": "ipython",
    "version": 3
   },
   "file_extension": ".py",
   "mimetype": "text/x-python",
   "name": "python",
   "nbconvert_exporter": "python",
   "pygments_lexer": "ipython3",
   "version": "3.7.11"
  }
 },
 "nbformat": 4,
 "nbformat_minor": 4
}
